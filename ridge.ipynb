{
 "cells": [
  {
   "cell_type": "markdown",
   "metadata": {},
   "source": [
    "Ridge Regression is an adaptation of the popular and widely used linear regression algorithm. It enhances regular linear regression by slightly changing its cost function, which results in less overfit models.\n",
    "普通线性回归只是求使得MSE最小的系数，并不关心模型中参数是不是特别大或者特别小，也不关心是否过拟合。\n",
    "https://machinelearningcompass.com/machine_learning_models/ridge_regression/"
   ]
  },
  {
   "cell_type": "code",
   "execution_count": 17,
   "metadata": {},
   "outputs": [
    {
     "data": {
      "image/png": "[encoded data removed]",
      "text/plain": [
       "<Figure size 432x288 with 1 Axes>"
      ]
     },
     "metadata": {
      "needs_background": "light"
     },
     "output_type": "display_data"
    }
   ],
   "source": [
    "import pandas as pd\n",
    "from matplotlib import pyplot as plt\n",
    "\n",
    "%matplotlib inline\n",
    "\n",
    "dataset = [[0.6,46,'train'],[0.7,39,'test'],[1,42,'train'],[1.25,40,'train'],[1.5,38,'train'],[1.5,37,'test'],[1.75,40,'test']]\n",
    "\n",
    "df = pd.DataFrame(dataset, columns=[\"age\", \"price\", \"usage\"])\n",
    "plt.scatter(x=df[\"age\"], y=df[\"price\"], marker='o')\n",
    "plt.show()"
   ]
  },
  {
   "cell_type": "code",
   "execution_count": 18,
   "metadata": {},
   "outputs": [
    {
     "data": {
      "image/png": "[encoded data removed]",
      "text/plain": [
       "<Figure size 432x288 with 1 Axes>"
      ]
     },
     "metadata": {
      "needs_background": "light"
     },
     "output_type": "display_data"
    }
   ],
   "source": [
    "plt.scatter(x=df[df[\"usage\"]==\"train\"][\"age\"], y=df[df[\"usage\"]==\"train\"][\"price\"], marker='o')\n",
    "plt.scatter(x=df[df[\"usage\"]==\"test\"][\"age\"], y=df[df[\"usage\"]==\"test\"][\"price\"], color=\"r\", marker='D')\n",
    "plt.show()"
   ]
  },
  {
   "cell_type": "code",
   "execution_count": 23,
   "metadata": {},
   "outputs": [
    {
     "name": "stdout",
     "output_type": "stream",
     "text": [
      "[[-8.88260255]] [51.15983027]\n"
     ]
    }
   ],
   "source": [
    "from sklearn import linear_model\n",
    "train_X = df[df[\"usage\"]==\"train\"][\"age\"].to_numpy()\n",
    "train_X = train_X.reshape((train_X.shape[0], 1))\n",
    "train_Y = df[df[\"usage\"]==\"train\"][\"price\"].to_numpy()\n",
    "train_Y = train_Y.reshape((train_Y.shape[0], 1))\n",
    "\n",
    "test_X = df[df[\"usage\"]==\"test\"][\"age\"].to_numpy()\n",
    "test_X = test_X.reshape((test_X.shape[0], 1))\n",
    "test_Y = df[df[\"usage\"]==\"test\"][\"price\"].to_numpy()\n",
    "test_Y = test_Y.reshape((test_Y.shape[0], 1))\n",
    "\n",
    "lr = linear_model.LinearRegression()\n",
    "lr.fit(train_X, train_Y)\n",
    "print(lr.coef_, lr.intercept_)"
   ]
  },
  {
   "cell_type": "code",
   "execution_count": 24,
   "metadata": {},
   "outputs": [
    {
     "data": {
      "image/png": "[encoded data removed]",
      "text/plain": [
       "<Figure size 432x288 with 1 Axes>"
      ]
     },
     "metadata": {
      "needs_background": "light"
     },
     "output_type": "display_data"
    }
   ],
   "source": [
    "import numpy as np\n",
    "\n",
    "lx = np.linspace(0.5, 2, 200)\n",
    "ly = lx * -8.88 + 51.12\n",
    "plt.scatter(x=train_X[:, 0], y=train_Y[:, 0], marker='o')\n",
    "plt.scatter(x=test_X[:, 0], y=test_Y[:, 0], color=\"r\", marker='D')\n",
    "plt.plot(lx, ly)\n",
    "plt.show()"
   ]
  },
  {
   "cell_type": "code",
   "execution_count": 25,
   "metadata": {},
   "outputs": [
    {
     "name": "stdout",
     "output_type": "stream",
     "text": [
      "0.03394625176803393\n",
      "18.410681359103787\n"
     ]
    }
   ],
   "source": [
    "from sklearn.metrics import mean_squared_error as mse\n",
    "print(mse(train_Y, lr.predict(train_X)))\n",
    "print(mse(test_Y, lr.predict(test_X)))"
   ]
  },
  {
   "cell_type": "markdown",
   "metadata": {},
   "source": [
    "模型的参数值过大导致过拟合。如果让模型的参数都相对小一点，往往会产生更好的结果。模型的参数是优化损失函数得到的。线性回归的损失函数是：\n",
    "\n",
    "$MSE(f) =\\frac{1}{n}\\cdot\\sum_{i=0}^n(y_i - f(x_i))^2 $\n",
    "\n",
    "岭回归就是在线性回归的损失函数基础上加了一个正则化项：\n",
    "\n",
    "$New Loss(y,y_pred) = MSE(y, y_pred) + \\alpha\\cdot\\Vert\\Theta\\Vert_1$\n",
    "\n",
    "其中$\\alpha$是控制正则项与MSE之间的权重，因为这两者的重要性可能是不一样的。"
   ]
  },
  {
   "cell_type": "code",
   "execution_count": null,
   "metadata": {},
   "outputs": [],
   "source": []
  },
  {
   "cell_type": "code",
   "execution_count": null,
   "metadata": {},
   "outputs": [],
   "source": []
  }
 ],
 "metadata": {
  "interpreter": {
   "hash": "e084f533fd39556e590963bc67603b4f8362215994c5401fc0fb2157607c276d"
  },
  "kernelspec": {
   "display_name": "Python 3.9.7 ('py39')",
   "language": "python",
   "name": "python3"
  },
  "language_info": {
   "codemirror_mode": {
    "name": "ipython",
    "version": 3
   },
   "file_extension": ".py",
   "mimetype": "text/x-python",
   "name": "python",
   "nbconvert_exporter": "python",
   "pygments_lexer": "ipython3",
   "version": "3.9.7"
  },
  "orig_nbformat": 4
 },
 "nbformat": 4,
 "nbformat_minor": 2
}
